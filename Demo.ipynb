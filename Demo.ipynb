{
 "cells": [
  {
   "cell_type": "markdown",
   "id": "7c4d9009",
   "metadata": {},
   "source": [
    "# Efficient Two-Stream Network for Violence Detection Using Separable Convolutional LSTM\n",
    "**Zahidul Islam, Mohammad Rukonuzzaman, Raiyan Ahmed, Md. Hasanul Kabir, Moshiur Farazi**\n",
    "\n",
    "**Pembuat Kode Demo : Ahmad Wafiq Amrillah**"
   ]
  },
  {
   "cell_type": "markdown",
   "id": "060880d3",
   "metadata": {},
   "source": [
    "\n",
    "## Penjelasan Singkat\n",
    "Penelitian ini menjelaskan tentang pengembangan sebuah metode yang efisien dan akurat untuk mendeteksi kekerasan secara otomatis dari rekaman video pengawasan. Ini merupakan bagian dari bidang pengenalan aktivitas manusia dalam Computer Vision."
   ]
  },
  {
   "cell_type": "markdown",
   "id": "c8ee4faf",
   "metadata": {},
   "source": [
    "\n",
    "## Prasyarat\n",
    "Adapun library yang digunakan pada penelitian ini, antara lain:\n",
    "* Python 3.7\n",
    "* Tensorflow 2.5.0\n",
    "* Scikit-image 0.16.2\n",
    "* Scipy 1.4.1\n",
    "* Pandas 1.1.5\n",
    "* Matplotlib 3.2.2\n",
    "* OpenCV 4.1.2.30\n",
    "* Numpy 1.19.2\n",
    "* Tqdm 4.41.1\n",
    "* Pillow 8.1.2\n",
    "* Scikit-learn 0.24.0"
   ]
  },
  {
   "cell_type": "code",
   "execution_count": 5,
   "id": "f21feedf",
   "metadata": {},
   "outputs": [
    {
     "name": "stdout",
     "output_type": "stream",
     "text": [
      "Python 3.7.0\n"
     ]
    }
   ],
   "source": [
    "!python --version"
   ]
  },
  {
   "cell_type": "code",
   "execution_count": null,
   "id": "7c812555",
   "metadata": {},
   "outputs": [],
   "source": [
    "%pip install -r requirements.txt"
   ]
  },
  {
   "cell_type": "code",
   "execution_count": null,
   "id": "656a5a71",
   "metadata": {},
   "outputs": [],
   "source": [
    "import numpy as np\n",
    "import cv2\n",
    "import time\n",
    "import IPython.display as display\n",
    "from skimage import io \n",
    "from tensorflow.keras.models import load_model\n",
    "from skimage import transform\n",
    "from skimage import exposure\n",
    "from tensorflow.keras.models import Model\n",
    "from matplotlib import pyplot as plt\n",
    "from numpy import expand_dims\n",
    "import argparse\n",
    "import os\n",
    "import io\n",
    "import models\n",
    "from dataGenerator import *\n",
    "from datasetProcess import *"
   ]
  },
  {
   "cell_type": "markdown",
   "id": "037c6424",
   "metadata": {},
   "source": [
    "## Dataset\n",
    "Dataset yang digunakan pada penelitian ini adalah :\n",
    "* [RWF2000](https://github.com/mchengny/RWF2000-Video-Database-for-Violence-Detection). Dataset ini berisi video dari tiga jenis kekerasan, yaitu *violence*, *non-violence* dan *no-violence*. Namun, pada demo ini, dataset tidak dapat digunakan karena dataset tidak dapat di-download.\n",
    "* [Hockey](https://www.kaggle.com/datasets/yassershrief/hockey-fight-vidoes) (../raw_videos/HockeyFights)\n",
    "* [Movies](https://academictorrents.com/details/70e0794e2292fc051a13f05ea6f5b6c16f3d3635) (../raw_videos/movies)\n",
    "\n",
    "Dataset yang diunduh disimpan dengan struktur folder seperti berikut : (Contoh untuk dataset Hockey)\n",
    "```\n",
    "📦project_directory\n",
    "  ┣ 📂raw_videos\n",
    "    ┣ 📂HockeyFights\n",
    "```"
   ]
  },
  {
   "cell_type": "markdown",
   "id": "a35590f6",
   "metadata": {},
   "source": [
    "## Training Model\n",
    "Berikut proses pelatihan model yang dihasilkan pada penelitian ini.\n",
    "Tetapi, sebelum melakukan pengujian model, diharapkan untuk melakukan proses training model pada dataset yang diinginkan dengan parameter ephocs yang sesuai dengan penelitian ini supaya dapat menghasilkan model yang akurat dan dataset memiliki content (npy) yang sesuai dengan penelitian ini.\n",
    "***Untuk pelatihan model tidak dilakukan, sehingga menggunakan [model](https://github.com/zahid58/TwoStreamSepConvLSTM_ViolenceDetection) yang sudah di-train pada penelitian ini.***"
   ]
  },
  {
   "cell_type": "code",
   "execution_count": null,
   "id": "b6a7f083",
   "metadata": {},
   "outputs": [],
   "source": [
    "!python train.py --dataset hockey --vidLen 32 --batchSize 4 --numEpochs 150 --mode both --preprocessData --lstmType sepconv --savePath \"./results\""
   ]
  },
  {
   "cell_type": "markdown",
   "id": "d49807d8",
   "metadata": {},
   "source": [
    "## Evaluate Model\n",
    "Berikut adalah contoh pengujian model yang dibuat pada penelitian ini.\n",
    "***Untuk pengujian model menggunakan model yang sudah di-train, silahkan download model yang sudah di-train pada drive folder [trained_models](https://drive.google.com/drive/folders/1igx-plktW069IgXyWg3H78AKuTg-jCza?usp=sharing). Silahkan copy file model yang diinginkan ke folder project directory.***"
   ]
  },
  {
   "cell_type": "code",
   "execution_count": null,
   "id": "94149dab",
   "metadata": {},
   "outputs": [],
   "source": [
    "!python evaluate.py --dataset hockey --vidLen 32 --batchSize 4 --mode both --lstmType sepconv --fusionType M --weightsPath \"./trained_models/hockey/sepconvlstm-M/model/hockey_model\""
   ]
  },
  {
   "cell_type": "markdown",
   "id": "09a6a2d6",
   "metadata": {},
   "source": [
    "## Qualitative Analysis\n",
    "Berikut adalah demonstrasi hasil model yang di-train secara visual dan memberikan pemahaman mendalam dari model yang di-train."
   ]
  },
  {
   "cell_type": "code",
   "execution_count": null,
   "id": "b16fde3c",
   "metadata": {},
   "outputs": [],
   "source": [
    "def qualitative():\n",
    "    weightsPath = \"./trained_models/hockey/sepconvlstm-M/model/hockey_model\"\n",
    "    outputPath = \"./Results/qualitativeAnalysis/\"\n",
    "    mode = \"both\"\n",
    "    dataset = 'hockey'\n",
    "    vid_len = 32\n",
    "    dataset_frame_size = 320\n",
    "    input_frame_size = 224\n",
    "    frame_diff_interval = 1\n",
    "    one_hot = False\n",
    "    lstm_type = 'sepconv'\n",
    "    \n",
    "    preprocess_data = False\n",
    "    if preprocess_data:\n",
    "        if dataset == 'rwf2000':\n",
    "            os.mkdir(os.path.join(dataset, 'processed'))\n",
    "            convert_dataset_to_npy(\n",
    "                src='{}/RWF-2000'.format(dataset),\n",
    "                dest='{}/processed'.format(dataset),\n",
    "                crop_x_y=None,\n",
    "                target_frames=vid_len,\n",
    "                frame_size= dataset_frame_size\n",
    "            )\n",
    "    \n",
    "    test_generator = DataGenerator(\n",
    "        directory='{}/processed/test'.format(dataset),\n",
    "        batch_size=1,\n",
    "        data_augmentation=False,\n",
    "        shuffle=True,\n",
    "        one_hot=one_hot,\n",
    "        sample=False,\n",
    "        resize=input_frame_size,\n",
    "        target_frames = vid_len,\n",
    "        frame_diff_interval = frame_diff_interval,\n",
    "        dataset = dataset,\n",
    "        normalize_ = False,\n",
    "        background_suppress = False,\n",
    "        mode = mode\n",
    "    )\n",
    "    \n",
    "    print('> getting the model from...', weightsPath)  \n",
    "    model =  models.getProposedModelM(size=224, seq_len=32, frame_diff_interval = 1, mode=\"both\", lstm_type=lstm_type)\n",
    "    model.load_weights(weightsPath).expect_partial()\n",
    "    model.trainable = False\n",
    "    model.summary()\n",
    "    \n",
    "    count = 100\n",
    "    classes = {0:\"violent\", 1:\"nonviolent\"}\n",
    "    tableResults = \"\"\n",
    "    tableResults += \"| index | target | predicted |\\n\"\n",
    "    tableResults += \"| ----- | ------ | --------- |\\n\"\n",
    "    for i, (x,y) in enumerate(test_generator):\n",
    "        if i == count:\n",
    "            break\n",
    "        data = x[0]; target = y[0]\n",
    "        if i == 0:\n",
    "            print(data.shape)\n",
    "        data = np.squeeze(data)\n",
    "        p = model.predict(x)\n",
    "        p = np.squeeze(p)\n",
    "        if p >= 0.50:\n",
    "            predicted = 1\n",
    "        else:\n",
    "            predicted = 0   \n",
    "        print(\"> index:\",i, \" target:\",target, \" predicted:\",predicted)\n",
    "        saveVideo(data, str(i)+\"_GT-\"+str(classes[target])+\"_PL-\"+str(classes[predicted]), outputPath, asFrames = True)\n",
    "        tableResults += \"| \"+str(i)+\" | \"+str(classes[target])+\" | \"+str(classes[predicted])+\" |\\n\"\n",
    "        \n",
    "    tableResults += \"--------------------------------------------------------------------------------\\n\"\n",
    "    print(tableResults)\n",
    "    \n",
    "def saveVideo(file, name, dest, asFrames = False, fps = 29, showImage = False):\n",
    "    if file.dtype != np.uint8:    \n",
    "        file = np.array(file, dtype = np.uint8)\n",
    "    outpath = os.path.join(dest, name)\n",
    "    _, h, w, _ = file.shape\n",
    "    size = (h, w)\n",
    "    if asFrames:\n",
    "        os.mkdir(outpath)\n",
    "        print(\"saving frames to \", outpath)\n",
    "        print(\"number of frames:\",len(file))\n",
    "        for i in range(len(file)):\n",
    "            filename = os.path.join(outpath, str(i)+\".png\")\n",
    "            frame = cv2.cvtColor(file[i], cv2.COLOR_BGR2RGB)\n",
    "            cv2.imwrite(filename, frame)\n",
    "            if i == 0 and showImage:\n",
    "                plt.imshow(frame)\n",
    "                plt.axis('off')\n",
    "                plt.show()\n",
    "            \n",
    "    else:\n",
    "        fourcc = cv2.VideoWriter_fourcc('D', 'I', 'V', 'X')\n",
    "        print(\"saving video to \", outpath)\n",
    "        out = cv2.VideoWriter(outpath,fourcc, fps, size)\n",
    "        print(\"video length:\",len(file))\n",
    "        for i in range(len(file)):\n",
    "            out.write(file[i])\n",
    "        out.release()\n",
    "    \n",
    "qualitative()"
   ]
  }
 ],
 "metadata": {
  "kernelspec": {
   "display_name": "3.7.0",
   "language": "python",
   "name": "python3"
  },
  "language_info": {
   "codemirror_mode": {
    "name": "ipython",
    "version": 3
   },
   "file_extension": ".py",
   "mimetype": "text/x-python",
   "name": "python",
   "nbconvert_exporter": "python",
   "pygments_lexer": "ipython3",
   "version": "3.7.0"
  }
 },
 "nbformat": 4,
 "nbformat_minor": 5
}
